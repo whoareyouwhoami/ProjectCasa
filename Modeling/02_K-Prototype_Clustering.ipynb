{
 "cells": [
  {
   "cell_type": "markdown",
   "metadata": {},
   "source": [
    "# 라이브러리"
   ]
  },
  {
   "cell_type": "code",
   "execution_count": 2,
   "metadata": {},
   "outputs": [],
   "source": [
    "from kmodes.kprototypes import KPrototypes\n",
    "import warnings\n",
    "warnings.filterwarnings('ignore')"
   ]
  },
  {
   "cell_type": "code",
   "execution_count": 3,
   "metadata": {},
   "outputs": [],
   "source": [
    "import psycopg2\n",
    "import pandas as pd\n",
    "import numpy as np\n",
    "import matplotlib.pyplot as plt\n",
    "import seaborn as sns\n",
    "import json\n",
    "import datetime\n",
    "import re\n",
    "\n",
    "from tqdm import tqdm\n",
    "import joblib\n",
    "from sklearn.preprocessing import LabelEncoder\n",
    "from kmodes.kprototypes import KPrototypes\n",
    "\n",
    "from matplotlib import font_manager, rc\n",
    "import platform\n",
    "\n",
    "if platform.system() == 'Windows':\n",
    "    font_name = font_manager.FontProperties(fname=\"c:/Windows/Fonts/malgun.ttf\").get_name()\n",
    "    rc('font', family=font_name)\n",
    "else:\n",
    "    rc('font', family='AppleGothic')"
   ]
  },
  {
   "cell_type": "markdown",
   "metadata": {},
   "source": [
    "# 데이터 불러오기"
   ]
  },
  {
   "cell_type": "code",
   "execution_count": 4,
   "metadata": {},
   "outputs": [],
   "source": [
    "def call_df(table_name):\n",
    "    with open('config.json', 'r') as f:\n",
    "        config = json.load(f)\n",
    "        \n",
    "    conn = psycopg2.connect(user = config['USER'],\n",
    "                              password = config['PASSWORD'],\n",
    "                              host = config['HOST'],\n",
    "                              port = config['PORT'],\n",
    "                              database = config['DATABASE'])\n",
    "    \n",
    "    sql = f'SELECT * FROM {table_name}'\n",
    "    df = pd.read_sql_query(sql, conn)\n",
    "    conn.close()\n",
    "    return df"
   ]
  },
  {
   "cell_type": "code",
   "execution_count": 5,
   "metadata": {},
   "outputs": [],
   "source": [
    "district = call_df('crawling_db.district_table')\n",
    "apartment = call_df('crawling_db.apartment_table').drop(columns='table_id')\n",
    "school = call_df('crawling_db.school_table').drop(columns='table_id')\n",
    "subway = call_df('crawling_db.subway_table').drop(columns='table_id')\n",
    "price = call_df('crawling_db.price_table')"
   ]
  },
  {
   "cell_type": "code",
   "execution_count": 24,
   "metadata": {},
   "outputs": [],
   "source": [
    "df = (apartment.\n",
    "      merge(district, how='left', on='district_id').\n",
    "      merge(school, how='left', on='apartment_id').\n",
    "      merge(subway, how='left',on='apartment_id'))"
   ]
  },
  {
   "cell_type": "code",
   "execution_count": 25,
   "metadata": {},
   "outputs": [
    {
     "data": {
      "text/html": [
       "<div>\n",
       "<style scoped>\n",
       "    .dataframe tbody tr th:only-of-type {\n",
       "        vertical-align: middle;\n",
       "    }\n",
       "\n",
       "    .dataframe tbody tr th {\n",
       "        vertical-align: top;\n",
       "    }\n",
       "\n",
       "    .dataframe thead th {\n",
       "        text-align: right;\n",
       "    }\n",
       "</style>\n",
       "<table border=\"1\" class=\"dataframe\">\n",
       "  <thead>\n",
       "    <tr style=\"text-align: right;\">\n",
       "      <th></th>\n",
       "      <th>district_id</th>\n",
       "      <th>apartment_id</th>\n",
       "      <th>apartment_addr_town</th>\n",
       "      <th>apartment_builder</th>\n",
       "      <th>apartment_build_year</th>\n",
       "      <th>apartment_build_month</th>\n",
       "      <th>apartment_floor_min</th>\n",
       "      <th>apartment_floor_max</th>\n",
       "      <th>apartment_parking</th>\n",
       "      <th>apartment_name</th>\n",
       "      <th>district_name</th>\n",
       "      <th>school_name</th>\n",
       "      <th>school_dist</th>\n",
       "      <th>school_addr_district</th>\n",
       "      <th>school_addr_town</th>\n",
       "      <th>school_students</th>\n",
       "      <th>st_name</th>\n",
       "      <th>st_dist</th>\n",
       "      <th>st_volume</th>\n",
       "    </tr>\n",
       "  </thead>\n",
       "  <tbody>\n",
       "    <tr>\n",
       "      <th>0</th>\n",
       "      <td>13</td>\n",
       "      <td>9738</td>\n",
       "      <td>상수동</td>\n",
       "      <td>두산산업개발(주)</td>\n",
       "      <td>2004</td>\n",
       "      <td>12</td>\n",
       "      <td>10</td>\n",
       "      <td>25</td>\n",
       "      <td>1.34</td>\n",
       "      <td>상수두산위브</td>\n",
       "      <td>마포구</td>\n",
       "      <td>서울서강초등학교</td>\n",
       "      <td>5</td>\n",
       "      <td>13</td>\n",
       "      <td>독막로</td>\n",
       "      <td>1012</td>\n",
       "      <td>상수역</td>\n",
       "      <td>0.001826</td>\n",
       "      <td>1</td>\n",
       "    </tr>\n",
       "    <tr>\n",
       "      <th>1</th>\n",
       "      <td>1</td>\n",
       "      <td>119219</td>\n",
       "      <td>개포동</td>\n",
       "      <td>삼성물산(주)</td>\n",
       "      <td>2020</td>\n",
       "      <td>9</td>\n",
       "      <td>7</td>\n",
       "      <td>35</td>\n",
       "      <td>1.71</td>\n",
       "      <td>개포래미안포레스트</td>\n",
       "      <td>강남구</td>\n",
       "      <td>서울구룡초등학교</td>\n",
       "      <td>2</td>\n",
       "      <td>1</td>\n",
       "      <td>개포로</td>\n",
       "      <td>492</td>\n",
       "      <td>매봉역</td>\n",
       "      <td>0.009325</td>\n",
       "      <td>1</td>\n",
       "    </tr>\n",
       "    <tr>\n",
       "      <th>2</th>\n",
       "      <td>1</td>\n",
       "      <td>107513</td>\n",
       "      <td>개포동</td>\n",
       "      <td>상지건영(주)</td>\n",
       "      <td>2003</td>\n",
       "      <td>3</td>\n",
       "      <td>10</td>\n",
       "      <td>10</td>\n",
       "      <td>2.27</td>\n",
       "      <td>개포상지리츠빌</td>\n",
       "      <td>강남구</td>\n",
       "      <td>서울개일초등학교</td>\n",
       "      <td>4</td>\n",
       "      <td>1</td>\n",
       "      <td>개포로</td>\n",
       "      <td>837</td>\n",
       "      <td>구룡역</td>\n",
       "      <td>0.002699</td>\n",
       "      <td>1</td>\n",
       "    </tr>\n",
       "    <tr>\n",
       "      <th>3</th>\n",
       "      <td>1</td>\n",
       "      <td>960</td>\n",
       "      <td>개포동</td>\n",
       "      <td>대한주택공사</td>\n",
       "      <td>1982</td>\n",
       "      <td>11</td>\n",
       "      <td>5</td>\n",
       "      <td>5</td>\n",
       "      <td>0.49</td>\n",
       "      <td>개포주공1단지</td>\n",
       "      <td>강남구</td>\n",
       "      <td>서울개원초등학교</td>\n",
       "      <td>1</td>\n",
       "      <td>1</td>\n",
       "      <td>선릉로</td>\n",
       "      <td>131</td>\n",
       "      <td>구룡역</td>\n",
       "      <td>0.007869</td>\n",
       "      <td>1</td>\n",
       "    </tr>\n",
       "    <tr>\n",
       "      <th>4</th>\n",
       "      <td>1</td>\n",
       "      <td>1289</td>\n",
       "      <td>개포동</td>\n",
       "      <td>대한주택공사</td>\n",
       "      <td>1982</td>\n",
       "      <td>11</td>\n",
       "      <td>5</td>\n",
       "      <td>5</td>\n",
       "      <td>0.40</td>\n",
       "      <td>개포주공4단지</td>\n",
       "      <td>강남구</td>\n",
       "      <td>서울양전초등학교</td>\n",
       "      <td>1</td>\n",
       "      <td>1</td>\n",
       "      <td>개포로</td>\n",
       "      <td>455</td>\n",
       "      <td>개포동역</td>\n",
       "      <td>0.004453</td>\n",
       "      <td>1</td>\n",
       "    </tr>\n",
       "  </tbody>\n",
       "</table>\n",
       "</div>"
      ],
      "text/plain": [
       "   district_id  apartment_id apartment_addr_town apartment_builder  \\\n",
       "0           13          9738                 상수동         두산산업개발(주)   \n",
       "1            1        119219                 개포동           삼성물산(주)   \n",
       "2            1        107513                 개포동           상지건영(주)   \n",
       "3            1           960                 개포동            대한주택공사   \n",
       "4            1          1289                 개포동            대한주택공사   \n",
       "\n",
       "   apartment_build_year  apartment_build_month apartment_floor_min  \\\n",
       "0                  2004                     12                  10   \n",
       "1                  2020                      9                   7   \n",
       "2                  2003                      3                  10   \n",
       "3                  1982                     11                   5   \n",
       "4                  1982                     11                   5   \n",
       "\n",
       "  apartment_floor_max  apartment_parking apartment_name district_name  \\\n",
       "0                  25               1.34         상수두산위브           마포구   \n",
       "1                  35               1.71      개포래미안포레스트           강남구   \n",
       "2                  10               2.27        개포상지리츠빌           강남구   \n",
       "3                   5               0.49        개포주공1단지           강남구   \n",
       "4                   5               0.40        개포주공4단지           강남구   \n",
       "\n",
       "  school_name  school_dist  school_addr_district school_addr_town  \\\n",
       "0    서울서강초등학교            5                    13              독막로   \n",
       "1    서울구룡초등학교            2                     1              개포로   \n",
       "2    서울개일초등학교            4                     1              개포로   \n",
       "3    서울개원초등학교            1                     1              선릉로   \n",
       "4    서울양전초등학교            1                     1              개포로   \n",
       "\n",
       "  school_students st_name   st_dist  st_volume  \n",
       "0            1012     상수역  0.001826          1  \n",
       "1             492     매봉역  0.009325          1  \n",
       "2             837     구룡역  0.002699          1  \n",
       "3             131     구룡역  0.007869          1  \n",
       "4             455    개포동역  0.004453          1  "
      ]
     },
     "execution_count": 25,
     "metadata": {},
     "output_type": "execute_result"
    }
   ],
   "source": [
    "df.head()"
   ]
  },
  {
   "cell_type": "markdown",
   "metadata": {},
   "source": [
    "# 데이터 전처리"
   ]
  },
  {
   "cell_type": "markdown",
   "metadata": {},
   "source": [
    "- 'apartment_build_month' 'school_name' 'school_addr_district' 'school_addr_town' 'apartment_floor_min', 'apartment_floor_max' 'apartment_parking' 'st_name' 'st_volume' >> 제거"
   ]
  },
  {
   "cell_type": "code",
   "execution_count": 26,
   "metadata": {},
   "outputs": [],
   "source": [
    "df = df.drop(['apartment_build_month','school_name','school_addr_district','school_addr_town','apartment_floor_min','apartment_floor_max', 'apartment_parking','st_name','st_volume','school_dist'],axis=1)"
   ]
  },
  {
   "cell_type": "markdown",
   "metadata": {},
   "source": [
    "## 숫자형 자료"
   ]
  },
  {
   "cell_type": "code",
   "execution_count": 27,
   "metadata": {},
   "outputs": [],
   "source": [
    "df['school_students'] = pd.to_numeric(df['school_students'])"
   ]
  },
  {
   "cell_type": "code",
   "execution_count": 28,
   "metadata": {},
   "outputs": [],
   "source": [
    "#준공연도 일의자리 수 제외하고 새롭게 설정\n",
    "df['apartment_build_year'] = df['apartment_build_year'].apply(lambda x : x - x%10)"
   ]
  },
  {
   "cell_type": "code",
   "execution_count": 29,
   "metadata": {},
   "outputs": [
    {
     "name": "stdout",
     "output_type": "stream",
     "text": [
      "district_id               0\n",
      "apartment_id              0\n",
      "apartment_addr_town       0\n",
      "apartment_builder         0\n",
      "apartment_build_year      0\n",
      "apartment_name            0\n",
      "district_name             0\n",
      "school_students         840\n",
      "st_dist                   0\n",
      "dtype: int64\n"
     ]
    }
   ],
   "source": [
    "print(df.isna().sum())"
   ]
  },
  {
   "cell_type": "markdown",
   "metadata": {},
   "source": [
    "- 네이버에서 근처에 학교가 없을 경우, 학교가 없다고 인식하여 결측치가 발생합니다. 이를 0으로 대체하겠습니다."
   ]
  },
  {
   "cell_type": "code",
   "execution_count": 30,
   "metadata": {},
   "outputs": [],
   "source": [
    "df['school_students'] = df['school_students'].fillna(0)"
   ]
  },
  {
   "cell_type": "markdown",
   "metadata": {},
   "source": [
    "### 정규화\n",
    "- 표준정규분포 정규화"
   ]
  },
  {
   "cell_type": "code",
   "execution_count": 31,
   "metadata": {},
   "outputs": [],
   "source": [
    "from sklearn.preprocessing import StandardScaler\n",
    "\n",
    "def standard_scaler(data, variable):\n",
    "    scaler = StandardScaler()\n",
    "    scaler.fit(data[variable].values.reshape(-1,1))\n",
    "    joblib.dump(scaler, f'./model/{variable}_scaler.pkl')\n",
    "\n",
    "def scaling(data, variable):\n",
    "    scaler = joblib.load(f'./model/{variable}_scaler.pkl')\n",
    "    output = scaler.transform(data[variable].values.reshape(-1,1))\n",
    "    return output\n",
    "\n",
    "def inverse_scaling(data, variable):\n",
    "    scaler = joblib.load(f'./model/{variable}_scaler.pkl')\n",
    "    output = scaler.inverse_transform(data[variable].values.reshape(-1,1))\n",
    "    return output "
   ]
  },
  {
   "cell_type": "code",
   "execution_count": 32,
   "metadata": {},
   "outputs": [],
   "source": [
    "numericals = [\n",
    "    'school_students',\n",
    "    'st_dist',\n",
    "    ]\n",
    "\n",
    "for variable in numericals:\n",
    "    standard_scaler(df, variable)\n",
    "    df[variable] = scaling(df, variable)"
   ]
  },
  {
   "cell_type": "markdown",
   "metadata": {},
   "source": [
    "## 범주형 자료"
   ]
  },
  {
   "cell_type": "code",
   "execution_count": 39,
   "metadata": {},
   "outputs": [],
   "source": [
    "labels = [\n",
    "    'apartment_addr_town',\n",
    "    'apartment_builder',\n",
    "    ]\n",
    "\n",
    "categoricals = [\n",
    "    'district_id',\n",
    "    'apartment_builder',\n",
    "    'apartment_build_year',\n",
    "    'apartment_addr_town'\n",
    "    ]"
   ]
  },
  {
   "cell_type": "code",
   "execution_count": 34,
   "metadata": {},
   "outputs": [],
   "source": [
    "def label_encoding(data, variable):\n",
    "    encoder = joblib.load(f'./model/{variable}_encoder.pkl')\n",
    "    output = encoder.transform(data[variable])\n",
    "    return output\n",
    "\n",
    "def label_decoding(data, variable):\n",
    "    encoder = joblib.load(f'./model/{variable}_encoder.pkl')\n",
    "    output = encoder.inverse_transform(data[variable])\n",
    "    return output"
   ]
  },
  {
   "cell_type": "code",
   "execution_count": 36,
   "metadata": {},
   "outputs": [],
   "source": [
    "for variable in labels:\n",
    "    df[variable] = label_encoding(df, variable)"
   ]
  },
  {
   "cell_type": "markdown",
   "metadata": {},
   "source": [
    "# Modeling "
   ]
  },
  {
   "cell_type": "markdown",
   "metadata": {},
   "source": [
    "## K-Prototypes Clustering"
   ]
  },
  {
   "cell_type": "code",
   "execution_count": 40,
   "metadata": {},
   "outputs": [
    {
     "name": "stdout",
     "output_type": "stream",
     "text": [
      "4\n"
     ]
    }
   ],
   "source": [
    "train = df[categoricals + numericals].copy()\n",
    "print(len(categoricals))"
   ]
  },
  {
   "cell_type": "code",
   "execution_count": 42,
   "metadata": {},
   "outputs": [
    {
     "name": "stdout",
     "output_type": "stream",
     "text": [
      "<class 'pandas.core.frame.DataFrame'>\n",
      "Int64Index: 8016 entries, 0 to 8015\n",
      "Data columns (total 6 columns):\n",
      " #   Column                Non-Null Count  Dtype  \n",
      "---  ------                --------------  -----  \n",
      " 0   district_id           8016 non-null   int64  \n",
      " 1   apartment_builder     8016 non-null   int32  \n",
      " 2   apartment_build_year  8016 non-null   int64  \n",
      " 3   apartment_addr_town   8016 non-null   int32  \n",
      " 4   school_students       8016 non-null   float64\n",
      " 5   st_dist               8016 non-null   float64\n",
      "dtypes: float64(2), int32(2), int64(2)\n",
      "memory usage: 375.8 KB\n"
     ]
    }
   ],
   "source": [
    "train.info()"
   ]
  },
  {
   "cell_type": "code",
   "execution_count": 43,
   "metadata": {},
   "outputs": [
    {
     "name": "stderr",
     "output_type": "stream",
     "text": [
      "100%|█████████████████████████████████████████████████████████████████████████████████| 15/15 [31:57<00:00, 127.83s/it]\n"
     ]
    }
   ],
   "source": [
    "n_pseudo = range(1,16)\n",
    "cost = []\n",
    "for i in tqdm(n_pseudo):\n",
    "    kproto = KPrototypes(n_clusters=i, verbose=0, random_state=0, n_jobs=-1)\n",
    "    kproto.fit_predict(train, categorical=list(range(len(categoricals))))\n",
    "    cost.append(kproto.cost_)\n",
    "cost_table = pd.DataFrame({'n':n_pseudo, 'cost':cost})"
   ]
  },
  {
   "cell_type": "code",
   "execution_count": 44,
   "metadata": {},
   "outputs": [
    {
     "data": {
      "image/png": "[encoded data removed]",
      "text/plain": [
       "<Figure size 432x288 with 1 Axes>"
      ]
     },
     "metadata": {
      "needs_background": "light"
     },
     "output_type": "display_data"
    }
   ],
   "source": [
    "def cost_visualize(data, x, y):\n",
    "    sns.pointplot(data=data, x=x, y=y)\n",
    "    plt.title('Cost Visualization')\n",
    "    plt.show()\n",
    "cost_visualize(cost_table, 'n', 'cost')"
   ]
  },
  {
   "cell_type": "markdown",
   "metadata": {},
   "source": [
    "- 적당한 k를 찾기 위해 Elbow Method를 사용합니다. Cost가 줄어드는 비율이 확연하게 줄어드는 지점이 유의미한 k라고 가정합니다. 위의 Cost 시각화 그래프에서 기울기의 절대값이 변동하는 비율이 0.1 이하로 떨어지며 클러스터 수가 작은 값을 적당한 k라고 정의하겠습니다."
   ]
  },
  {
   "cell_type": "code",
   "execution_count": 45,
   "metadata": {},
   "outputs": [
    {
     "name": "stdout",
     "output_type": "stream",
     "text": [
      "가장 적당한 k는 10입니다.\n"
     ]
    }
   ],
   "source": [
    "cost_table['coef'] = abs(cost_table['cost'] - cost_table['cost'].shift(1))\n",
    "cost_table['ratio'] =  abs((cost_table['coef'].shift(1) - cost_table['coef'])/cost_table['coef'])\n",
    "optimal_k = cost_table.loc[cost_table['ratio'] <= 0.1]['n'].min()\n",
    "print(f'가장 적당한 k는 {optimal_k}입니다.')"
   ]
  },
  {
   "cell_type": "code",
   "execution_count": 46,
   "metadata": {},
   "outputs": [
    {
     "data": {
      "text/plain": [
       "['./model/kprototype_model.pkl']"
      ]
     },
     "execution_count": 46,
     "metadata": {},
     "output_type": "execute_result"
    }
   ],
   "source": [
    "kproto = KPrototypes(n_clusters=optimal_k, verbose=0, random_state=0, n_jobs=-1)\n",
    "train['cluster'] = kproto.fit_predict(train, categorical=list(range(len(categoricals))))\n",
    "joblib.dump(kproto, './model/kprototype_model.pkl')"
   ]
  },
  {
   "cell_type": "markdown",
   "metadata": {},
   "source": [
    "## Decoding Into Original"
   ]
  },
  {
   "cell_type": "code",
   "execution_count": 47,
   "metadata": {},
   "outputs": [],
   "source": [
    "train['apartment_id'] = df['apartment_id']\n",
    "train['apartment_name'] = df['apartment_name']\n",
    "train['district_name'] = df['district_name']\n",
    "\n",
    "for variable in numericals:\n",
    "    train[variable] = inverse_scaling(train, variable)\n",
    "for variable in labels:\n",
    "    train[variable] = label_decoding(train, variable)  "
   ]
  },
  {
   "cell_type": "code",
   "execution_count": 48,
   "metadata": {},
   "outputs": [],
   "source": [
    "train.to_pickle('./data/clustered_apartment.pkl')"
   ]
  },
  {
   "cell_type": "code",
   "execution_count": 49,
   "metadata": {},
   "outputs": [],
   "source": [
    "clustered = pd.read_pickle('./data/clustered_apartment.pkl')"
   ]
  }
 ],
 "metadata": {
  "kernelspec": {
   "display_name": "Python 3",
   "language": "python",
   "name": "python3"
  },
  "language_info": {
   "codemirror_mode": {
    "name": "ipython",
    "version": 3
   },
   "file_extension": ".py",
   "mimetype": "text/x-python",
   "name": "python",
   "nbconvert_exporter": "python",
   "pygments_lexer": "ipython3",
   "version": "3.7.6"
  },
  "toc": {
   "base_numbering": 1,
   "nav_menu": {},
   "number_sections": true,
   "sideBar": true,
   "skip_h1_title": false,
   "title_cell": "Table of Contents",
   "title_sidebar": "Contents",
   "toc_cell": false,
   "toc_position": {
    "height": "calc(100% - 180px)",
    "left": "10px",
    "top": "150px",
    "width": "165px"
   },
   "toc_section_display": true,
   "toc_window_display": true
  },
  "varInspector": {
   "cols": {
    "lenName": 16,
    "lenType": 16,
    "lenVar": 40
   },
   "kernels_config": {
    "python": {
     "delete_cmd_postfix": "",
     "delete_cmd_prefix": "del ",
     "library": "var_list.py",
     "varRefreshCmd": "print(var_dic_list())"
    },
    "r": {
     "delete_cmd_postfix": ") ",
     "delete_cmd_prefix": "rm(",
     "library": "var_list.r",
     "varRefreshCmd": "cat(var_dic_list()) "
    }
   },
   "position": {
    "height": "348px",
    "left": "1550px",
    "right": "20px",
    "top": "120px",
    "width": "350px"
   },
   "types_to_exclude": [
    "module",
    "function",
    "builtin_function_or_method",
    "instance",
    "_Feature"
   ],
   "window_display": false
  }
 },
 "nbformat": 4,
 "nbformat_minor": 2
}
