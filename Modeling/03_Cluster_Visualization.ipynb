{
 "cells": [
  {
   "cell_type": "markdown",
   "metadata": {},
   "source": [
    "# 라이브러리"
   ]
  },
  {
   "cell_type": "code",
   "execution_count": 1,
   "metadata": {},
   "outputs": [],
   "source": [
    "import pandas as pd\n",
    "import numpy as np\n",
    "import matplotlib.pyplot as plt\n",
    "import seaborn as sns\n",
    "import datetime\n",
    "import re\n",
    "import joblib\n",
    "\n",
    "from tqdm import tqdm\n",
    "from sklearn.preprocessing import LabelEncoder\n",
    "\n",
    "from matplotlib import font_manager, rc\n",
    "import platform\n",
    "\n",
    "if platform.system() == 'Windows':\n",
    "    font_name = font_manager.FontProperties(fname=\"c:/Windows/Fonts/malgun.ttf\").get_name()\n",
    "    rc('font', family=font_name)\n",
    "else:\n",
    "    rc('font', family='AppleGothic')"
   ]
  },
  {
   "cell_type": "code",
   "execution_count": 18,
   "metadata": {},
   "outputs": [],
   "source": [
    "import warnings\n",
    "warnings.filterwarnings('ignore')"
   ]
  },
  {
   "cell_type": "markdown",
   "metadata": {},
   "source": [
    "# Data Importing"
   ]
  },
  {
   "cell_type": "code",
   "execution_count": 77,
   "metadata": {},
   "outputs": [],
   "source": [
    "train = pd.read_pickle('./data/clustered_apartment.pkl')"
   ]
  },
  {
   "cell_type": "code",
   "execution_count": 8,
   "metadata": {},
   "outputs": [
    {
     "data": {
      "text/html": [
       "<div>\n",
       "<style scoped>\n",
       "    .dataframe tbody tr th:only-of-type {\n",
       "        vertical-align: middle;\n",
       "    }\n",
       "\n",
       "    .dataframe tbody tr th {\n",
       "        vertical-align: top;\n",
       "    }\n",
       "\n",
       "    .dataframe thead th {\n",
       "        text-align: right;\n",
       "    }\n",
       "</style>\n",
       "<table border=\"1\" class=\"dataframe\">\n",
       "  <thead>\n",
       "    <tr style=\"text-align: right;\">\n",
       "      <th></th>\n",
       "      <th>district_id</th>\n",
       "      <th>apartment_builder</th>\n",
       "      <th>apartment_build_year</th>\n",
       "      <th>apartment_addr_town</th>\n",
       "      <th>school_students</th>\n",
       "      <th>st_dist</th>\n",
       "      <th>cluster</th>\n",
       "      <th>apartment_id</th>\n",
       "      <th>apartment_name</th>\n",
       "      <th>district_name</th>\n",
       "    </tr>\n",
       "  </thead>\n",
       "  <tbody>\n",
       "    <tr>\n",
       "      <th>0</th>\n",
       "      <td>13</td>\n",
       "      <td>두산산업개발(주)</td>\n",
       "      <td>2000</td>\n",
       "      <td>상수동</td>\n",
       "      <td>1012.0</td>\n",
       "      <td>0.001826</td>\n",
       "      <td>7</td>\n",
       "      <td>9738</td>\n",
       "      <td>상수두산위브</td>\n",
       "      <td>마포구</td>\n",
       "    </tr>\n",
       "    <tr>\n",
       "      <th>1</th>\n",
       "      <td>1</td>\n",
       "      <td>삼성물산(주)</td>\n",
       "      <td>2020</td>\n",
       "      <td>개포동</td>\n",
       "      <td>492.0</td>\n",
       "      <td>0.009325</td>\n",
       "      <td>4</td>\n",
       "      <td>119219</td>\n",
       "      <td>개포래미안포레스트</td>\n",
       "      <td>강남구</td>\n",
       "    </tr>\n",
       "    <tr>\n",
       "      <th>2</th>\n",
       "      <td>1</td>\n",
       "      <td>상지건영(주)</td>\n",
       "      <td>2000</td>\n",
       "      <td>개포동</td>\n",
       "      <td>837.0</td>\n",
       "      <td>0.002699</td>\n",
       "      <td>7</td>\n",
       "      <td>107513</td>\n",
       "      <td>개포상지리츠빌</td>\n",
       "      <td>강남구</td>\n",
       "    </tr>\n",
       "    <tr>\n",
       "      <th>3</th>\n",
       "      <td>1</td>\n",
       "      <td>대한주택공사</td>\n",
       "      <td>1980</td>\n",
       "      <td>개포동</td>\n",
       "      <td>131.0</td>\n",
       "      <td>0.007869</td>\n",
       "      <td>4</td>\n",
       "      <td>960</td>\n",
       "      <td>개포주공1단지</td>\n",
       "      <td>강남구</td>\n",
       "    </tr>\n",
       "    <tr>\n",
       "      <th>4</th>\n",
       "      <td>1</td>\n",
       "      <td>대한주택공사</td>\n",
       "      <td>1980</td>\n",
       "      <td>개포동</td>\n",
       "      <td>455.0</td>\n",
       "      <td>0.004453</td>\n",
       "      <td>6</td>\n",
       "      <td>1289</td>\n",
       "      <td>개포주공4단지</td>\n",
       "      <td>강남구</td>\n",
       "    </tr>\n",
       "  </tbody>\n",
       "</table>\n",
       "</div>"
      ],
      "text/plain": [
       "   district_id apartment_builder  apartment_build_year apartment_addr_town  \\\n",
       "0           13         두산산업개발(주)                  2000                 상수동   \n",
       "1            1           삼성물산(주)                  2020                 개포동   \n",
       "2            1           상지건영(주)                  2000                 개포동   \n",
       "3            1            대한주택공사                  1980                 개포동   \n",
       "4            1            대한주택공사                  1980                 개포동   \n",
       "\n",
       "   school_students   st_dist  cluster  apartment_id apartment_name  \\\n",
       "0           1012.0  0.001826        7          9738         상수두산위브   \n",
       "1            492.0  0.009325        4        119219      개포래미안포레스트   \n",
       "2            837.0  0.002699        7        107513        개포상지리츠빌   \n",
       "3            131.0  0.007869        4           960        개포주공1단지   \n",
       "4            455.0  0.004453        6          1289        개포주공4단지   \n",
       "\n",
       "  district_name  \n",
       "0           마포구  \n",
       "1           강남구  \n",
       "2           강남구  \n",
       "3           강남구  \n",
       "4           강남구  "
      ]
     },
     "execution_count": 8,
     "metadata": {},
     "output_type": "execute_result"
    }
   ],
   "source": [
    "train.head()"
   ]
  },
  {
   "cell_type": "markdown",
   "metadata": {},
   "source": [
    "# Visualization"
   ]
  },
  {
   "cell_type": "markdown",
   "metadata": {},
   "source": [
    "## 아파트 동 주소(apartment_addr_town)\n",
    "- 상위 5개의 동을 봤을 때 고르게 분포하는 것을 확인할 수 있습니다."
   ]
  },
  {
   "cell_type": "code",
   "execution_count": 28,
   "metadata": {},
   "outputs": [
    {
     "name": "stdout",
     "output_type": "stream",
     "text": [
      "0번 집단: 신월동 신림동 평창동 신정동 시흥동\n",
      "1번 집단: 반포동 도곡동 역촌동 이촌동 내발산동\n",
      "2번 집단: 응암동 대조동 천호동 황학동 영등포동2가\n",
      "3번 집단: 방배동 성내동 잠원동 내발산동 장안동\n",
      "4번 집단: 청담동 남현동 신사동 역삼동 상계동\n",
      "5번 집단: 독산동 장안동 신사동 신월동 시흥동\n",
      "6번 집단: 삼성동 논현동 역삼동 상계동 공릉동\n",
      "7번 집단: 길동 성내동 천호동 응암동 염창동\n",
      "8번 집단: 방이동 가락동 오금동 문정동 송파동\n"
     ]
    }
   ],
   "source": [
    "def top_list(n):\n",
    "    for i in range(9):\n",
    "        top = ' '.join(train.loc[train['cluster']==i,'apartment_addr_town'].value_counts().head(n).index.tolist())\n",
    "        print(f'{i}번 집단: {top}')\n",
    "top_list(5)"
   ]
  },
  {
   "cell_type": "markdown",
   "metadata": {},
   "source": [
    "## 지역구(district_name)\n",
    "- 집단별로 지역구의 구성이 조금씩 차이나는 것으로 보입니다.\n",
    "- 7번 집단의 경우 특정 지역에서만 분포하는 것을 확인할 수 있습니다."
   ]
  },
  {
   "cell_type": "code",
   "execution_count": 4,
   "metadata": {},
   "outputs": [
    {
     "data": {
      "image/png": "[encoded data removed]",
      "text/plain": [
       "<Figure size 720x432 with 1 Axes>"
      ]
     },
     "metadata": {
      "needs_background": "light"
     },
     "output_type": "display_data"
    }
   ],
   "source": [
    "plt.figure(figsize=(10,6))\n",
    "sns.stripplot(data=train, x='district_name', y='cluster')\n",
    "plt.xticks(rotation=45)\n",
    "plt.show()"
   ]
  },
  {
   "cell_type": "markdown",
   "metadata": {},
   "source": [
    "## 학생 수(school_students)\n",
    "- 1번 3번 집단의 학생 수가 많은 것을 확인할 수 있습니다."
   ]
  },
  {
   "cell_type": "code",
   "execution_count": 5,
   "metadata": {},
   "outputs": [
    {
     "data": {
      "image/png": "[encoded data removed]",
      "text/plain": [
       "<Figure size 720x432 with 1 Axes>"
      ]
     },
     "metadata": {
      "needs_background": "light"
     },
     "output_type": "display_data"
    }
   ],
   "source": [
    "plt.figure(figsize=(10,6))\n",
    "sns.boxplot(data=train, x='cluster', y='school_students')\n",
    "plt.show()"
   ]
  },
  {
   "cell_type": "code",
   "execution_count": 12,
   "metadata": {},
   "outputs": [],
   "source": [
    "population = pd.read_excel(\"./data/population.xlsx\")\n",
    "population.drop(['※ 매년 말일자 통계 현황','Unnamed: 4'],axis=1,inplace=True)\n",
    "population.drop([0,1,2],inplace=True)\n",
    "population.rename(columns={'Unnamed: 1':'district_name','Unnamed: 2':'총인구수','Unnamed: 3':'세대수'},inplace=True)\n",
    "population['district_name'] = population.district_name.str.split(' ').str[1]\n",
    "population['세대수'] = population.세대수.str.replace(',', '').astype('int64')"
   ]
  },
  {
   "cell_type": "code",
   "execution_count": 13,
   "metadata": {},
   "outputs": [
    {
     "data": {
      "text/html": [
       "<div>\n",
       "<style scoped>\n",
       "    .dataframe tbody tr th:only-of-type {\n",
       "        vertical-align: middle;\n",
       "    }\n",
       "\n",
       "    .dataframe tbody tr th {\n",
       "        vertical-align: top;\n",
       "    }\n",
       "\n",
       "    .dataframe thead th {\n",
       "        text-align: right;\n",
       "    }\n",
       "</style>\n",
       "<table border=\"1\" class=\"dataframe\">\n",
       "  <thead>\n",
       "    <tr style=\"text-align: right;\">\n",
       "      <th></th>\n",
       "      <th>district_name</th>\n",
       "      <th>총인구수</th>\n",
       "      <th>세대수</th>\n",
       "    </tr>\n",
       "  </thead>\n",
       "  <tbody>\n",
       "    <tr>\n",
       "      <th>3</th>\n",
       "      <td>종로구</td>\n",
       "      <td>151,290</td>\n",
       "      <td>73947</td>\n",
       "    </tr>\n",
       "    <tr>\n",
       "      <th>4</th>\n",
       "      <td>중구</td>\n",
       "      <td>126,171</td>\n",
       "      <td>62739</td>\n",
       "    </tr>\n",
       "    <tr>\n",
       "      <th>5</th>\n",
       "      <td>용산구</td>\n",
       "      <td>228,670</td>\n",
       "      <td>110126</td>\n",
       "    </tr>\n",
       "    <tr>\n",
       "      <th>6</th>\n",
       "      <td>성동구</td>\n",
       "      <td>300,889</td>\n",
       "      <td>135838</td>\n",
       "    </tr>\n",
       "    <tr>\n",
       "      <th>7</th>\n",
       "      <td>광진구</td>\n",
       "      <td>351,350</td>\n",
       "      <td>164428</td>\n",
       "    </tr>\n",
       "  </tbody>\n",
       "</table>\n",
       "</div>"
      ],
      "text/plain": [
       "  district_name     총인구수     세대수\n",
       "3           종로구  151,290   73947\n",
       "4            중구  126,171   62739\n",
       "5           용산구  228,670  110126\n",
       "6           성동구  300,889  135838\n",
       "7           광진구  351,350  164428"
      ]
     },
     "execution_count": 13,
     "metadata": {},
     "output_type": "execute_result"
    }
   ],
   "source": [
    "population.head()"
   ]
  },
  {
   "cell_type": "code",
   "execution_count": 20,
   "metadata": {},
   "outputs": [],
   "source": [
    "df1 = pd.merge(train,population,on='district_name',how='left')\n",
    "df1['ratio'] = 0.0\n",
    "for ind in df1.index:\n",
    "  a = float(df1['세대수'][ind])\n",
    "  b = float(df1['school_students'][ind])\n",
    "  df1['ratio'][ind] = b/a"
   ]
  },
  {
   "cell_type": "code",
   "execution_count": 23,
   "metadata": {},
   "outputs": [
    {
     "data": {
      "image/png": "[encoded data removed]",
      "text/plain": [
       "<Figure size 720x432 with 1 Axes>"
      ]
     },
     "metadata": {
      "needs_background": "light"
     },
     "output_type": "display_data"
    }
   ],
   "source": [
    "plt.figure(figsize=(10,6))\n",
    "sns.boxplot(data=df1, x='cluster', y='ratio')\n",
    "plt.show()"
   ]
  },
  {
   "cell_type": "markdown",
   "metadata": {},
   "source": [
    "- 자치구 세대 인구수 대비 학생수의 비율을 집단별로 살펴보았을 때, 여전히 집단 1과 집단 3의 값이 높은 것을 확인할 수 있습니다"
   ]
  },
  {
   "cell_type": "markdown",
   "metadata": {},
   "source": [
    "## 지하철 역까지의 평균 거리\n",
    "- 6, 7번 집단이 지하철역과의 거리가 낮게 나왔으며, 1번 9번 집단이 높은 값을 보입니다"
   ]
  },
  {
   "cell_type": "code",
   "execution_count": 84,
   "metadata": {},
   "outputs": [
    {
     "data": {
      "image/png": "[encoded data removed]",
      "text/plain": [
       "<Figure size 432x288 with 1 Axes>"
      ]
     },
     "metadata": {
      "needs_background": "light"
     },
     "output_type": "display_data"
    }
   ],
   "source": [
    "sns.barplot(data=train, x='cluster', y='st_dist', estimator=np.mean)\n",
    "plt.show()"
   ]
  }
 ],
 "metadata": {
  "kernelspec": {
   "display_name": "Python 3",
   "language": "python",
   "name": "python3"
  },
  "language_info": {
   "codemirror_mode": {
    "name": "ipython",
    "version": 3
   },
   "file_extension": ".py",
   "mimetype": "text/x-python",
   "name": "python",
   "nbconvert_exporter": "python",
   "pygments_lexer": "ipython3",
   "version": "3.7.6"
  },
  "toc": {
   "base_numbering": 1,
   "nav_menu": {},
   "number_sections": true,
   "sideBar": true,
   "skip_h1_title": false,
   "title_cell": "Table of Contents",
   "title_sidebar": "Contents",
   "toc_cell": false,
   "toc_position": {},
   "toc_section_display": true,
   "toc_window_display": false
  },
  "varInspector": {
   "cols": {
    "lenName": 16,
    "lenType": 16,
    "lenVar": 40
   },
   "kernels_config": {
    "python": {
     "delete_cmd_postfix": "",
     "delete_cmd_prefix": "del ",
     "library": "var_list.py",
     "varRefreshCmd": "print(var_dic_list())"
    },
    "r": {
     "delete_cmd_postfix": ") ",
     "delete_cmd_prefix": "rm(",
     "library": "var_list.r",
     "varRefreshCmd": "cat(var_dic_list()) "
    }
   },
   "types_to_exclude": [
    "module",
    "function",
    "builtin_function_or_method",
    "instance",
    "_Feature"
   ],
   "window_display": false
  }
 },
 "nbformat": 4,
 "nbformat_minor": 4
}
